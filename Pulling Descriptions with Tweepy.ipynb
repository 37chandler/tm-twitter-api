{
 "cells": [
  {
   "cell_type": "markdown",
   "metadata": {},
   "source": [
    "## Pulling Descriptions with Tweepy\n",
    "\n",
    "**By:** _Jordan McNea_"
   ]
  },
  {
   "cell_type": "code",
   "execution_count": 1,
   "metadata": {},
   "outputs": [],
   "source": [
    "import datetime\n",
    "import tweepy\n",
    "\n",
    "# I've put my API keys in a .py file called API_keys.py\n",
    "from API_keys import key, secret_key, access, secret_access"
   ]
  },
  {
   "cell_type": "code",
   "execution_count": 2,
   "metadata": {},
   "outputs": [],
   "source": [
    "# Authenticate the Tweepy API\n",
    "auth = tweepy.OAuthHandler(key,secret_key)\n",
    "auth.set_access_token(access, secret_access)\n",
    "api = tweepy.API(auth,wait_on_rate_limit=True)"
   ]
  },
  {
   "cell_type": "markdown",
   "metadata": {},
   "source": [
    "## Grab follower IDs"
   ]
  },
  {
   "cell_type": "markdown",
   "metadata": {},
   "source": [
    "I had the WNBA Finals on in the background while creating this Notebook, so I will be collecting followers from the Seattle Storm and Las Vegas Aces, the two finalists. Tweepy only allows users to grab 900 requests per 15 minutes. It'll grab the 900 requests quickly then wait 15 minutes, rather than slowly grab 900 requests over a 15 minute period. Before we start grabbing follower IDs, let's first just check how long it will take. To do this we'll grab the followers_count item from Tweepy. "
   ]
  },
  {
   "cell_type": "code",
   "execution_count": 3,
   "metadata": {},
   "outputs": [
    {
     "name": "stdout",
     "output_type": "stream",
     "text": [
      "\n",
      "    @seattlestorm has 71193 followers. \n",
      "    That will take roughly 0 hours and 14.24 minutes\n",
      "    \n",
      "\n",
      "    @LVAces has 42427 followers. \n",
      "    That will take roughly 0 hours and 8.49 minutes\n",
      "    \n"
     ]
    }
   ],
   "source": [
    "# I'm putting the handles in a list to iterate through below\n",
    "team_handles = ['seattlestorm', 'LVAces']\n",
    "\n",
    "\n",
    "# This will iterate through each Twitter handle that we're collecting from\n",
    "for screen_name in team_handles:\n",
    "    \n",
    "    # Tells Tweepy we want information on the handle we're collecting from\n",
    "    # The next line specifies which information we want, which in this case is the number of followers \n",
    "    user = api.get_user(screen_name) \n",
    "    followers_count = user.followers_count\n",
    "\n",
    "    # Let's see roughly how long it will take to grab all the follower IDs. \n",
    "    print(f'''\n",
    "    @{screen_name} has {followers_count} followers. \n",
    "    That will take roughly {followers_count/(5000*60):.0f} hours and {followers_count/(5000):.2f} minutes\n",
    "    ''')\n",
    "    "
   ]
  },
  {
   "cell_type": "markdown",
   "metadata": {},
   "source": [
    "It looks like there should only be one fifteen minute break. It'll grab all of the Storm's followers, then some of the Aces before sleeping for fifteen minutes. Let's run it and see how long it'll actually take."
   ]
  },
  {
   "cell_type": "code",
   "execution_count": 4,
   "metadata": {},
   "outputs": [
    {
     "name": "stderr",
     "output_type": "stream",
     "text": [
      "Rate limit reached. Sleeping for: 890\n"
     ]
    },
    {
     "name": "stdout",
     "output_type": "stream",
     "text": [
      "0:15:04.720280\n"
     ]
    }
   ],
   "source": [
    "# This creates a dictionary containing a list for each Twitter handle we'll be grabbing follower IDs from\n",
    "id_dict = {'seattlestorm' : [],\n",
    "           'LVAces' : []}\n",
    "\n",
    "# Grabs the time when we start making requests to the API\n",
    "start_time = datetime.datetime.now()\n",
    "\n",
    "# .keys() allows us to iterate through each key in the dictionary\n",
    "for handle in id_dict.keys():\n",
    "    \n",
    "    # Each page contains 5,000 records, so since we know there are much more than 5,000 followers for both\n",
    "    # the Storm and Aces, we must iterate through each of the pages in order to get all follower IDs\n",
    "    # To grab the follower IDs, we will be using followers_ids\n",
    "    for page in tweepy.Cursor(api.followers_ids,\n",
    "                              # This is how we will get around the issue of not being able to grab all ids at once\n",
    "                              # Once the rate limit is hit, we will be notified that we must wait 15 mins (900 secs)\n",
    "                              wait_on_rate_limit=True, wait_on_rate_limit_notify=True, compression=True,\n",
    "                              screen_name=handle).pages():\n",
    "\n",
    "        # The page variable comes back as a list, so we have to use .extend rather than .append\n",
    "        id_dict[handle].extend(page)\n",
    "        \n",
    "\n",
    "# Let's see how long it took to grab all follower IDs\n",
    "end_time = datetime.datetime.now()\n",
    "elapsed_time = end_time - start_time\n",
    "print(elapsed_time)"
   ]
  },
  {
   "cell_type": "markdown",
   "metadata": {},
   "source": [
    "Let's look at some ids we gathered."
   ]
  },
  {
   "cell_type": "code",
   "execution_count": 5,
   "metadata": {},
   "outputs": [
    {
     "data": {
      "text/plain": [
       "[84764937,\n",
       " 459860328,\n",
       " 1120330572059033605,\n",
       " 1621249062,\n",
       " 1189031172120240129,\n",
       " 1286936349862494209,\n",
       " 437252213,\n",
       " 2310843745,\n",
       " 1162598131135057920,\n",
       " 628702031]"
      ]
     },
     "execution_count": 5,
     "metadata": {},
     "output_type": "execute_result"
    }
   ],
   "source": [
    "id_dict['seattlestorm'][:10]"
   ]
  },
  {
   "cell_type": "markdown",
   "metadata": {},
   "source": [
    "You'll notice they are all numbers. This is because ids are different from screen names. To see the twitter handles we gathered, we'll have to use the scren_name feature."
   ]
  },
  {
   "cell_type": "code",
   "execution_count": 6,
   "metadata": {},
   "outputs": [
    {
     "name": "stdout",
     "output_type": "stream",
     "text": [
      "paulfingmurphy\n",
      "JulieMendoza206\n",
      "BrenoGa01964440\n",
      "nickbehnen19\n",
      "Oswaldo10808143\n",
      "AbelaBelay\n",
      "rreesejr_1\n",
      "ethanbmatt\n",
      "Omar5paredes\n",
      "kmzyv\n"
     ]
    }
   ],
   "source": [
    "users = id_dict['seattlestorm'][:10]\n",
    "\n",
    "for name in users:\n",
    "    \n",
    "    user = api.get_user(name)\n",
    "    print(user.screen_name)"
   ]
  },
  {
   "cell_type": "markdown",
   "metadata": {},
   "source": [
    "## Grab descriptions based on the followers IDs"
   ]
  },
  {
   "cell_type": "markdown",
   "metadata": {},
   "source": [
    "That looks much better. We can get all sorts of information from the ID. We don't just want screen names though, that doesn't tell us much. Let's grab each screen name and their description and write it to a text file for each team account."
   ]
  },
  {
   "cell_type": "code",
   "execution_count": 7,
   "metadata": {},
   "outputs": [],
   "source": [
    "for team in id_dict.keys():\n",
    "    \n",
    "    # Descriptions with emoji or non-Roman letters can cause trouble. Encoding your .txt file in utf-8 will help\n",
    "    with open(f'{team}_followers.txt','w', encoding='utf-8') as wf:\n",
    "        wf.write('screen_name\\tdescription\\n')\n",
    "\n",
    "        for idx, ids in enumerate(id_dict[team]):\n",
    "            \n",
    "            # For accounts set to private, we won't be able to get the description unless we follow them\n",
    "            # Putting in a try/except statement, we can get around this issue.\n",
    "            try:\n",
    "                user = api.get_user(ids)\n",
    "                description = str(user.description).replace('\\t',' ').replace('\\n',' ')\n",
    "                wf.write(user.screen_name + '\\t' + user.description + '\\n')\n",
    "                \n",
    "            except:\n",
    "                continue\n",
    "                \n",
    "            if idx == 100:\n",
    "                break\n",
    "                "
   ]
  },
  {
   "cell_type": "markdown",
   "metadata": {},
   "source": [
    "## Grabbing Tweets by search terms"
   ]
  },
  {
   "cell_type": "markdown",
   "metadata": {},
   "source": [
    "Tweepy also lets users grab tweets based off of search terms. October 10th was World Mental Health Day, so let's look at tweets containing its official hashtag. Twitter search allows standard search operators (<a href=\"https://developer.twitter.com/en/docs/twitter-api/v1/rules-and-filtering/overview/standard-operators\">read more here</a>). We only want Tweets that occurred on World Mental Health Day, hence the since and until operators, and I'm excluding retweets.\n"
   ]
  },
  {
   "cell_type": "code",
   "execution_count": 8,
   "metadata": {},
   "outputs": [
    {
     "name": "stdout",
     "output_type": "stream",
     "text": [
      "regillett\n",
      "2020-10-10 23:59:58\n",
      "It’s been quite a journey for my friend and co-host @JulieAEller and I, living with arthritis for many years. It can be hard. A very different experience being on the other side for this podcast &amp; we hope sharing our stories can help others. #WeLiveYes #WorldMentalHealthDay https://t.co/fjxbAJHghT\n",
      "----------------------------------------\n",
      "NymphInTheWood\n",
      "2020-10-10 23:59:57\n",
      "The sad coincidence of my depression hitting hard on #WorldMentalHealthDay I only just realized that was today\n",
      "----------------------------------------\n",
      "ShibbuKumar16\n",
      "2020-10-10 23:59:56\n",
      "#WorldMentalHealthDay\n",
      "Holy Bible Genesis 1:27 God created mankind in his own image, in the image of God he created them; male and female he created them.\n",
      "God is not formless. This a baseless theory.\n",
      "Holy Bible proves that God is in human form.\n",
      "https://t.co/VsRktkm7y0\n",
      "----------------------------------------\n",
      "zamud_doudd\n",
      "2020-10-10 23:59:55\n",
      "@WHO @UnitedGMH @WHOSEARO @DrTedros @momgerm @childreninwar @UNHumanRights return peace to the children of #kashmir on #WorldMentalHealthDay #MentalHealth matters for #kashmir as for anyone else https://t.co/Yfw2k9zMul\n",
      "----------------------------------------\n",
      "sami_danielle01\n",
      "2020-10-10 23:59:54\n",
      "@VIPsYouAreLoved And I'd like to add that Taeyang's smile never fails to make me feel good and Daesung's voice has healing powers, I'm sure. I can feel my soul being blessed just by listening to him singing 🌞😇🙏🏻\n",
      "#VIPsMentalHealth \n",
      "#WorldMentalHealthDay \n",
      "@YG_GlobalVIP\n",
      "----------------------------------------\n",
      "WhatIsAGoodLife\n",
      "2020-10-10 23:59:54\n",
      "Downsize Your Life: Why Less is More | Rita Wilkins | TEDxWilmingtonWomen https://t.co/fqFNd1lkoK via @YouTube#itstime#itallaboutyou#lifestyle#design#deserved #WorldMentalHealthDay #BusinessStrategy #downsizingdesigner #designinspiration #Entrepreneurship #FlyEaglesFly\n",
      "----------------------------------------\n",
      "Aruhi06723437\n",
      "2020-10-10 23:59:53\n",
      "Supreme God Kabir appears whenever He wishes; He never takes birth from a mother because He is the Originator of all.\n",
      "\n",
      "- Saint Rampal Ji Maharaj\n",
      "#WorldMentalHealthDay https://t.co/WPu3CzMdDP\n",
      "----------------------------------------\n",
      "SagarRithvik\n",
      "2020-10-10 23:59:52\n",
      "#WorldMentalHealthDay\n",
      "Holy Bible, Genesis 18:2\n",
      "\n",
      "Abraham looked up and saw three men standing nearby. \n",
      "\n",
      "This proves that there are more than one God whereas Christians believe that God is One.\n",
      "- Saint Rampal Ji Maharaj\n",
      "SaintRampalJi.. https://t.co/XZ32vYor8q\n",
      "----------------------------------------\n",
      "acserrao76\n",
      "2020-10-10 23:59:49\n",
      "@sue18011 @GaGa_Radio_uk @katrina_nunn When you have the kind of #LivedExperience I have you are grateful to be here and able to help others. I am blessed, I know that now 🙏🏽❤️ never take a roof over my head for granted xx #WorldMentalHealthDay #WorldHomelessDay\n",
      "----------------------------------------\n",
      "MyndHeal\n",
      "2020-10-10 23:59:49\n",
      "Close your eyes, breathe in deeply and exhale out slowly.  List three qualities and things you can do to practice self care.  #WorldMentalHealthDay #selfcare #acceptance #LoveYourself #MentalHealth #MentalHealthForAll #MentalHealthAwarenessDay #COVID19 #coronavirus #pandemic https://t.co/IKUyo4kWsR\n",
      "----------------------------------------\n",
      "Ak_Patel_ji\n",
      "2020-10-10 23:59:48\n",
      "#WorldMentalHealthDay\n",
      "\n",
      "-SaintRampalJi\n",
      "\n",
      "You will be saved from sins by doing true worship of true God Kabir by taking refuge in true spiritual leader.\n",
      " - True Spiritual Leader Saint Rampal Ji Maharaj https://t.co/ETglcZ0iIb\n",
      "----------------------------------------\n",
      "3FVc9FvrZYQAoav\n",
      "2020-10-10 23:59:46\n",
      "#WorldMentalHealthDay\n",
      "Prediction of woman astrologer from America, \"Jean Dixon\" about Saint Rampal Ji Maharaj -\n",
      "After the ideological war, a new civilisation based on spiritualism would probably originate under the leadership of an Indian man. https://t.co/KNRfZiUkRC\n",
      "----------------------------------------\n",
      "edenisonmd\n",
      "2020-10-10 23:59:46\n",
      "If you haven’t had a chance to check out our podcast @parenthealth, I hope you will. We are trying to offer practical, proactive parenting tips to help decrease the alarming rates of anxiety and depression in kids and young adults. #WorldMentalHealthDay\n",
      "----------------------------------------\n",
      "LilaVonSnatch\n",
      "2020-10-10 23:59:44\n",
      "It’s #WorldMentalHealthDay \n",
      "\n",
      "PTSD COPING MECHANISM THREAD:\n",
      "\n",
      "I’ve had PTSD for 18yrs and want to share some things I’ve learned from Drs...\n",
      "\n",
      "I’m going to try to cover everything, I apologize if it’s disjointed.\n",
      "\n",
      "TW: Self Harm | Drug Use\n",
      "----------------------------------------\n",
      "angelaclavijo\n",
      "2020-10-10 23:59:44\n",
      "Prioritizing mental health is key to living a full &amp; healthy life. Wellness is a lifelong commitment - you deserve to do what it takes for you to feel alive &amp; whole. Therapy, meds, water, sun, self-compassion - life's hard, give yourself what you need 🌻 #WorldMentalHealthDay\n",
      "----------------------------------------\n",
      "NaveenK51586413\n",
      "2020-10-10 23:59:42\n",
      "#WorldMentalHealthDay\n",
      "You will be saved from sins by doing true worship of true God Kabir by taking refuge in true spiritual leader.\n",
      " - True Spiritual Leader Saint Rampal Ji Maharaj https://t.co/idlOVuAItQ\n",
      "----------------------------------------\n",
      "IshuReal\n",
      "2020-10-10 23:59:41\n",
      "#WorldMentalHealthDay\n",
      "Holy Bible Genesis 1:27 God created mankind in his own image, in the image of God he created them; male and female he created them.\n",
      "God is not formless. This a baseless theory.\n",
      "Holy Bible proves that God is in human form.\n",
      "Saint Rampal ji https://t.co/RIOumaXB2w\n",
      "----------------------------------------\n",
      "DesignOurLives\n",
      "2020-10-10 23:59:40\n",
      "📷 👀 #Checkin Today is #WorldMentalHealthDay This has been one of most productive years of my life BUT also one of the most challenging for so many. Work &amp; #selfcare keep me busy but I miss engaging outside of the #virtual realm.... https://t.co/9FHYXqiwFc\n",
      "----------------------------------------\n",
      "Nicholls_VB\n",
      "2020-10-10 23:59:39\n",
      "Today is #WorldMentalHealthDay With everything going on in the world, taking care of our minds is just as important as taking care of our bodies. What are some things you do to stay mentally well? \n",
      "\n",
      "#OneTeamOneGoal #GeauxColonels #MentalHealthAwareness https://t.co/ppOTx0jxdw\n",
      "----------------------------------------\n",
      "okasha_hafiz\n",
      "2020-10-10 23:59:38\n",
      "The Most confused we ever get is when we try to convince our heads of something our hearts know is a lie. \n",
      "#WorldMentalHealthDay\n",
      "----------------------------------------\n",
      "ahmedelhofyiam\n",
      "2020-10-10 23:59:36\n",
      "Today is world mental health day. Mental health issues sucks. I know sometimes it can feel like your world is falling apart and that you can't snap out of this. That in that particular moment, it's end. I've been there and believe me, It's not the end. \n",
      "#WorldMentalHealthDay\n",
      "----------------------------------------\n",
      "OfollowC\n",
      "2020-10-10 23:59:34\n",
      "#WorldMentalHealthDay\n",
      "Supreme God Kabir appears whenever He wishes; He never takes birth from a mother because He is the Originator of all.\n",
      "\n",
      "- Saint Rampal Ji Maharaj\n",
      "@SenatorLoeffler https://t.co/RAVtHsxUGS\n",
      "----------------------------------------\n",
      "d3rriah\n",
      "2020-10-10 23:59:33\n",
      "Fight stigma🤙🏾\n",
      "#WorldMentalHealthDay \n",
      "#MentalHealth https://t.co/QCzsN346eX\n",
      "----------------------------------------\n",
      "obrienmark\n",
      "2020-10-10 23:59:33\n",
      "@MargaretAtwood would love to ask #whathelps on #WorldMentalHealthDay #worldmentalhealthday2020 as wide as possible, amazing responses so far, can you help? https://t.co/OIR9ViqmEE\n",
      "----------------------------------------\n",
      "CoriBush\n",
      "2020-10-10 23:59:32\n",
      "Today, many are saying that mental health is no different than physical health. But then why did my work insurance not cover my therapy bills?\n",
      "\n",
      "Mental healthcare must be considered healthcare. Via Medicare for All we will give everyone access.\n",
      "\n",
      "#WorldMentalHealthDay\n",
      "----------------------------------------\n",
      "SagarRithvik\n",
      "2020-10-10 23:59:28\n",
      "#WorldMentalHealthDay\n",
      "Holy Bible, Genesis 18:2\n",
      "\n",
      "Abraham looked up and saw three men standing nearby. \n",
      "\n",
      "This proves that there are more than one God whereas Christians believe that God is One.\n",
      "- Saint Rampal Ji Maharaj.. https://t.co/n1jZeCgMqP\n",
      "----------------------------------------\n",
      "Krati33186085\n",
      "2020-10-10 23:59:27\n",
      "#WorldMentalHealthDay\n",
      "\n",
      "Holy Bible Genesis 1:29\n",
      "God said, “I give you every seed-bearing plant on the face of the whole earth &amp; every tree that has fruit with seed in it. They will be yours for food.\n",
      "God did not order to eat meat. https://t.co/jWPrk4sxSa\n",
      "----------------------------------------\n",
      "awhiteCuban\n",
      "2020-10-10 23:59:24\n",
      "Lol it’s #WorldMentalHealthDay and I spent the entire day filled with rage and stress\n",
      "----------------------------------------\n",
      "ManDeshwal\n",
      "2020-10-10 23:59:24\n",
      "#WorldMentalHealthDay\n",
      "Everyone should listen to the spiritual discourse by True Spiritual Master Saint Rampal Ji Maharaj for eternal peace and salvation.\n",
      "@SaintRampalJiM https://t.co/k7QoJ4QNwE\n",
      "----------------------------------------\n",
      "Olivia_Olivia05\n",
      "2020-10-10 23:59:23\n",
      "Holy Bible Genesis 1:29\n",
      "God said, “I give you every seed-bearing plant on the face of the whole earth &amp; every tree that has fruit with seed in it. They will be yours for food.\n",
      "God did not order to eat meat.\n",
      "#WorldMentalHealthDay\n",
      "Saint Rampal Ji https://t.co/ErTBYkfT7Q\n",
      "----------------------------------------\n"
     ]
    },
    {
     "name": "stdout",
     "output_type": "stream",
     "text": [
      "FairTooWell1\n",
      "2020-10-10 23:59:23\n",
      "#WorldMentalHealthDay not alot of people care about us who had to endure. im recovering well and staying away from those who just dont understand.\n",
      "----------------------------------------\n",
      "KSh42981671\n",
      "2020-10-10 23:59:21\n",
      "#WorldMentalHealthDay\n",
      "Salvation can only be attained by taking refuge in true Spiritual Leader Saint Rampal Ji Maharaj. He is the one who provides the true way to worship Eternal God Kabir. https://t.co/nvI7sFsakk\n",
      "----------------------------------------\n",
      "TyHoward_Mmag\n",
      "2020-10-10 23:59:20\n",
      "You've got this! Be kind to your mind. Do not hesitate to ask for help. ~ Ty Howard #mentalhealthday #worldmentalhealthday #startups #Entrepreneurship #business #sales #workplace #employees #quotes #quote https://t.co/IE2QfuBsOH\n",
      "----------------------------------------\n",
      "cakenewsnext\n",
      "2020-10-10 23:59:19\n",
      "When you side with Abusers\n",
      "🤐🤐🤐🤐🤐🤐🤐🤐🤐🤐🤐\n",
      "#WorldMentalHealthDay\n",
      "----------------------------------------\n",
      "Eva1112222\n",
      "2020-10-10 23:59:18\n",
      "The definition of health according (WHO) “complete physical, mental and social well-being and not merely the absence of disease or infirmity”\n",
      "\n",
      " #WorldMentalHealthDay\n",
      "----------------------------------------\n",
      "Marvcovi\n",
      "2020-10-10 23:59:16\n",
      "Harry and Meghan speak from experience, anyone who discount that experience is waste matter #WorldMentalHealthDay https://t.co/HsPXZtGLWt\n",
      "----------------------------------------\n",
      "Ivanka39611616\n",
      "2020-10-10 23:59:14\n",
      "#WorldMentalHealthDay\n",
      "Prediction of woman astrologer from America, \"Jean Dixon\" about Saint Rampal Ji Maharaj\n",
      "\n",
      "After the ideological war, a new civilisation based on spiritualism would probably originate under the leadership of an Indian man. https://t.co/GuvIGmHUzZ\n",
      "----------------------------------------\n",
      "Aruhi06723437\n",
      "2020-10-10 23:59:13\n",
      "Holy Bible 📘Genesis 1:29\n",
      "God said, “I give you every seed-bearing plant on the face of the whole earth &amp; every tree that has fruit with seed in it. They will be yours for food.\n",
      "God did not order to eat meat.\n",
      "\n",
      "#WorldMentalHealthDay https://t.co/rkuXcp6hGO\n",
      "----------------------------------------\n",
      "PBgoesDC\n",
      "2020-10-10 23:59:13\n",
      "This #WorldMentalHealthDay, this OCD, mood disordered, recovering alcoholic is with you. \n",
      "\n",
      "Call 1-800-662-HELP (4357) for free, confidential, 24/7, 365-day-a-year treatment referral and information service for individuals and families facing mental and/or substance use disorders. https://t.co/Ui14b0GbZg\n",
      "----------------------------------------\n",
      "ErwinsCatHerder\n",
      "2020-10-10 23:59:13\n",
      "If you are working, whether full-time or part-time, and have any kind of health insurance, use it to talk to a mental health professional (psychologist, therapist, etc.). \n",
      "\n",
      "But don't tell anyone at work. It's a huge risk to take. #WorldMentalHealthDay\n",
      "----------------------------------------\n",
      "lalalieu\n",
      "2020-10-10 23:59:12\n",
      "Today’s World Mental Health Day and I’m taking the time to reflect, relax and be grateful — accepting myself for who I am and continuing on the journey to become the best version of ME. #WorldMentalHealthDay\n",
      "----------------------------------------\n",
      "SagarRithvik\n",
      "2020-10-10 23:59:10\n",
      "#WorldMentalHealthDay\n",
      "Holy Bible Genesis 1:27 God created mankind in his own image, in the image of God he created them; male and female he created them.\n",
      "God is not formless. This a baseless theory.\n",
      "Holy Bible proves that God is in human form... https://t.co/NuvIN1pEe5\n",
      "----------------------------------------\n",
      "T_Nasty99\n",
      "2020-10-10 23:59:09\n",
      "on #WorldMentalHealthDay everyone remember to be kind to those around you. silent battles are the toughest battles and too often we lose loved ones to them.\n",
      "----------------------------------------\n",
      "Stephhorror303\n",
      "2020-10-10 23:59:03\n",
      "Mental health is very important to me, it has almost taken me out twice. I’m still here 🌻#MentalHealth #mentalhealthday #WorldMentalHealthDay https://t.co/cLCGAFtrC7\n",
      "----------------------------------------\n",
      "AayatRahmaan\n",
      "2020-10-10 23:59:02\n",
      "#WorldMentalHealthDay\n",
      "Jesus was the son of God.\n",
      "Lord Kabir is the eternal father of all souls. He never dies nor He takes birth from a mother.\n",
      "God Kabir one is the worthy of being worshipped.\n",
      "https://t.co/omc1xAsc3t\n",
      "----------------------------------------\n",
      "DanielJagged\n",
      "2020-10-10 23:58:59\n",
      "Close Twitter bro. What are you doing here? \n",
      "#WorldMentalHealthDay\n",
      "----------------------------------------\n",
      "__Kanta_1\n",
      "2020-10-10 23:58:57\n",
      "#WorldMentalHealthDay\n",
      "Holy Bible Genesis 1:29\n",
      "God said, “I give you every seed-bearing plant on the face of the whole earth &amp; every tree that has fruit with seed in it. They will be yours for food.\n",
      "God did not order to eat meat.\n",
      "\n",
      "Saint Rampal Ji Maharaj https://t.co/pD4mL8bQf2\n",
      "----------------------------------------\n",
      "Hemraj00\n",
      "2020-10-10 23:58:53\n",
      "#WorldMentalHealthDay\n",
      "Holy Bible Genesis 1:29\n",
      "God said, “I give you every seed-bearing plant on the face of the whole earth &amp; every tree that has fruit with seed in it. They will be yours for food.\n",
      "God did not order to eat meat.\n",
      "Saint Rampal ji https://t.co/zgYxCYXXIE\n",
      "----------------------------------------\n",
      "BazilontheWolf\n",
      "2020-10-10 23:58:50\n",
      "By the way, it's #WorldMentalHealthDay !\n",
      "\n",
      "... You should probably get off twitter.\n",
      "----------------------------------------\n",
      "tamsa7a\n",
      "2020-10-10 23:58:49\n",
      "I was also challenged by @Tocco1897 to repost for #WorldMentalHealthDay \n",
      "\n",
      "Be kind, for everyone you meet is fighting a battle you know nothing about. And be kind whenever possible. It is always possible 😊 https://t.co/HC9QNulHKn\n",
      "----------------------------------------\n",
      "catarina4pr\n",
      "2020-10-10 23:58:47\n",
      "How are you? \n",
      "When was the last time you replied or heard a honest answer to this seemingly simple question? \n",
      "Our lives are not black and white, nor should we expect our days to be. \n",
      "An intentional 'how are you' matters. It is a real connection, we need it. \n",
      "#WorldMentalHealthDay\n",
      "----------------------------------------\n"
     ]
    }
   ],
   "source": [
    "search_words = '#WorldMentalHealthDay since:2020-10-09 until:2020-10-11 -filter:retweets'\n",
    "\n",
    "# Notice the differences between searching tweets and users. \n",
    "for idx, item in enumerate(tweepy.Cursor(api.search,\n",
    "                   # tweet_mode is defaulted to short, which only holds the first 140 characters of a Tweet.\n",
    "                   tweet_mode='extended',\n",
    "                   q=search_words,\n",
    "                   lang='en').items()):\n",
    "    \n",
    "    # There's all sort of information you can get from Tweets\n",
    "    # Find more tweet objects here: https://developer.twitter.com/en/docs/twitter-api/v1/data-dictionary/overview/tweet-object\n",
    "    print(item.user.screen_name)\n",
    "    print(item.created_at)\n",
    "    print(item.full_text)\n",
    "    print('-'*40)\n",
    "    \n",
    "    if idx == 50:\n",
    "        break\n",
    "    "
   ]
  },
  {
   "cell_type": "markdown",
   "metadata": {},
   "source": [
    "It's also possible to use this search feature to grab the mentions of a Twitter account. Mentions are any tweet where another user's handle is included (i.e. they are mentioned in the tweet)."
   ]
  },
  {
   "cell_type": "code",
   "execution_count": 9,
   "metadata": {},
   "outputs": [],
   "source": [
    "search_words = '@GovernorBullock -filter:retweets'\n",
    "\n",
    "\n",
    "tweets_all = tweepy.Cursor(api.search,\n",
    "                   tweet_mode='extended',\n",
    "                   q=search_words,\n",
    "                   lang='en').items()\n",
    "\n",
    "# Put all the Tweet objects for a single Tweet into a tuple, and put all those into a list\n",
    "tweets = [(tweet.full_text,tweet.created_at,tweet.user.screen_name) for tweet in tweets_all]\n"
   ]
  },
  {
   "cell_type": "code",
   "execution_count": 10,
   "metadata": {
    "scrolled": true
   },
   "outputs": [
    {
     "data": {
      "text/plain": [
       "[('@GovernorBullock Happy Columbus Day.',\n",
       "  datetime.datetime(2020, 10, 12, 17, 7),\n",
       "  'nelas_27'),\n",
       " ('@GovernorBullock Do you ask that indigenous people also honor the contributions made by the people who are here now?',\n",
       "  datetime.datetime(2020, 10, 12, 17, 3, 11),\n",
       "  'Revlucduck'),\n",
       " (\"@waiakoa @MTGOP @GovernorBullock @SteveDaines Except before the Democrats didn't control both the Senate and the Presidency.\",\n",
       "  datetime.datetime(2020, 10, 12, 16, 51, 15),\n",
       "  'NickAllevato'),\n",
       " (\"@MTGOP @GovernorBullock The only person 'packing' the Supreme Court right now is Trump.\",\n",
       "  datetime.datetime(2020, 10, 12, 16, 50, 46),\n",
       "  'Reilly2020'),\n",
       " ('@GovernorBullock Thank you Governor Steve Bullock. Today gets to honor our indigenous people that have made our culture richer. Thank you.',\n",
       "  datetime.datetime(2020, 10, 12, 16, 49, 18),\n",
       "  'always_ike'),\n",
       " ('@MTGOP @GovernorBullock And @SteveDaines made his position clear too--the senate shouldn\\'t confirm a SCOTUS nominee before a new president is elected. Mitch agreed &amp; stated, \"Winners set policy.\" So it\\'s a moot point. Daines &amp; Mitch agree a Dem POTUS &amp; senate can CLEAN UP this mess. Done. #mtpol #mtsen',\n",
       "  datetime.datetime(2020, 10, 12, 16, 49, 3),\n",
       "  'waiakoa'),\n",
       " ('@Ruraliving1 @GovernorBullock You know that MT has the highest average age in the entire west, right? 94% is a pretty shitty rate. 😷😷😷😷',\n",
       "  datetime.datetime(2020, 10, 12, 16, 48, 37),\n",
       "  'MTMattSantala'),\n",
       " ('@real_defender @realDonaldTrump The ACA needs improvement that is why we are voting @JoeBiden @KamalaHarris @GovernorBullock @mjhegar @CalforNC @ossoff @GreenfieldIowa @AmyMcGrathKY @dana_balter @PhilArballo2020 @PhilEhr #VoeBiden #VoteOutCorruptGOP https://t.co/KJ31LZnCjt',\n",
       "  datetime.datetime(2020, 10, 12, 16, 43, 21),\n",
       "  '2witty4u'),\n",
       " (\"@MTGOP @GovernorBullock Not quite what he said, but I hope the Dems do it.  Love how the GOP is getting all righteous about not violating the norms after they've done it without a qualm for four years. Payback is a bitch they say.\",\n",
       "  datetime.datetime(2020, 10, 12, 16, 40, 1),\n",
       "  'MrsBennet406'),\n",
       " ('@AviatorMT @GovernorBullock Haha. Tell us more about Columbus, Mike.',\n",
       "  datetime.datetime(2020, 10, 12, 16, 39, 11),\n",
       "  'ChipmanJoel')]"
      ]
     },
     "execution_count": 10,
     "metadata": {},
     "output_type": "execute_result"
    }
   ],
   "source": [
    "tweets[:10]"
   ]
  }
 ],
 "metadata": {
  "kernelspec": {
   "display_name": "Python 3",
   "language": "python",
   "name": "python3"
  },
  "language_info": {
   "codemirror_mode": {
    "name": "ipython",
    "version": 3
   },
   "file_extension": ".py",
   "mimetype": "text/x-python",
   "name": "python",
   "nbconvert_exporter": "python",
   "pygments_lexer": "ipython3",
   "version": "3.7.3"
  }
 },
 "nbformat": 4,
 "nbformat_minor": 2
}
